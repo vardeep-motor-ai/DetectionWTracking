{
 "cells": [
  {
   "cell_type": "code",
   "execution_count": 58,
   "id": "0cf298bf-d2be-406f-b0d7-4552cdad69b0",
   "metadata": {},
   "outputs": [],
   "source": [
    "import open3d as o3d\n",
    "import numpy as np\n",
    "import pykitti\n",
    "import os\n",
    "import matplotlib.pyplot as plt\n",
    "import torch"
   ]
  },
  {
   "cell_type": "code",
   "execution_count": 56,
   "id": "legitimate-banner",
   "metadata": {},
   "outputs": [],
   "source": [
    "path = \"/media/sandhu/SSD/dataset/kitti/odometry/dataset/sequences/08/velodyne/\"\n",
    "bin_file_path = sorted(os.listdir(path))\n",
    "\n",
    "full_file_path = [os.path.join(path, i) for i in bin_file_path]\n",
    "\n",
    "def bin2array(file):\n",
    "    array = np.fromfile(file, dtype=np.float32).reshape(-1, 4)\n",
    "    points = array[:, :3]\n",
    "    intensity = array[:, -1]\n",
    "    return points, intensity\n",
    "\n",
    "def points_to_homo(points):\n",
    "    ones = np.ones(len(points)).reshape(-1,1)\n",
    "    points = np.hstack((points, ones))\n",
    "    return points\n",
    "\n",
    "def cvt_frame(gt_poses, idx, points):\n",
    "    points_w = gt_poses[idx] @ points.T\n",
    "    points_w = np.delete(points_w.T, -1, axis=1)\n",
    "    return points_w\n",
    "\n",
    "def get_gt_poses():\n",
    "    \"\"\"This function loads the GT poses on the Velodyne coordinate frame.\"\"\"\n",
    "    data = pykitti.odometry(\"/media/sandhu/SSD/dataset/kitti/odometry/dataset\", \"08\")\n",
    "    T_cam_velo = data.calib.T_cam0_velo\n",
    "    T_velo_cam = np.linalg.inv(T_cam_velo)\n",
    "\n",
    "    gt_poses = T_velo_cam @ data.poses @ T_cam_velo\n",
    "    return gt_poses\n",
    "\n",
    "def points2pcd(points):\n",
    "    pcd = o3d.geometry.PointCloud()\n",
    "    pcd.points = o3d.utility.Vector3dVector(points)\n",
    "    return pcd"
   ]
  },
  {
   "cell_type": "code",
   "execution_count": 57,
   "id": "running-pressure",
   "metadata": {},
   "outputs": [],
   "source": [
    "gt_poses = get_gt_poses()\n",
    "\n",
    "for idx, i in enumerate(full_file_path):\n",
    "    points, _ = bin2array(i)\n",
    "    points = points_to_homo(points)\n",
    "    points = cvt_frame(gt_poses, idx, points)\n",
    "    pcd = points2pcd(points)\n",
    "    o3d.io.write_point_cloud(f\"pcd/{idx}.pcd\", pcd)"
   ]
  },
  {
   "cell_type": "code",
   "execution_count": 79,
   "id": "associate-conversation",
   "metadata": {},
   "outputs": [
    {
     "name": "stdout",
     "output_type": "stream",
     "text": [
      "[[ 20.071732    10.954449    -1.1626467 ]\n",
      " [ 25.973503     0.24628448  -0.73464763]\n",
      " [ 17.740112   -19.655722    -0.3506791 ]\n",
      " [ 15.05806    -17.111658    -0.31844682]\n",
      " [ 17.940247   -13.328232    -0.5288076 ]\n",
      " [ 21.913956    -5.3029366   -0.46488124]\n",
      " [ 40.274864     8.531654    -0.77705824]\n",
      " [ 54.300148    -2.3400154   -0.539096  ]\n",
      " [ 35.233498    -5.727024    -0.17135626]\n",
      " [ 62.10038      3.905964    -0.43801457]]\n"
     ]
    }
   ],
   "source": [
    "xyz = np.array(torch.load(\"tools/xyz.pt\").cpu())\n",
    "print(xyz[: 10])"
   ]
  },
  {
   "cell_type": "code",
   "execution_count": 85,
   "id": "durable-perry",
   "metadata": {},
   "outputs": [
    {
     "name": "stdout",
     "output_type": "stream",
     "text": [
      "[[ 5.22616036e-01  8.52458394e-01 -1.36804251e-02  7.88339501e+01]\n",
      " [-8.51979047e-01  5.22784140e-01  2.87854455e-02  3.78958391e+02]\n",
      " [ 3.16903152e-02 -3.38830075e-03  9.99491923e-01 -7.59785332e-01]\n",
      " [ 0.00000000e+00  0.00000000e+00  0.00000000e+00  1.00000000e+00]]\n"
     ]
    }
   ],
   "source": [
    "# xyz = points_to_homo(xyz)\n",
    "# cvt_xyz = cvt_frame(gt_poses, 0, xyz)\n",
    "# print(cvt_xyz)\n",
    "print(gt_poses[500])"
   ]
  },
  {
   "cell_type": "code",
   "execution_count": null,
   "id": "optical-first",
   "metadata": {},
   "outputs": [],
   "source": []
  }
 ],
 "metadata": {
  "kernelspec": {
   "display_name": "Python 3",
   "language": "python",
   "name": "python3"
  },
  "language_info": {
   "codemirror_mode": {
    "name": "ipython",
    "version": 3
   },
   "file_extension": ".py",
   "mimetype": "text/x-python",
   "name": "python",
   "nbconvert_exporter": "python",
   "pygments_lexer": "ipython3",
   "version": "3.6.13"
  }
 },
 "nbformat": 4,
 "nbformat_minor": 5
}
