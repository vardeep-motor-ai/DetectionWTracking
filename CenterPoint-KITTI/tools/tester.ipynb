{
 "cells": [
  {
   "cell_type": "code",
   "execution_count": 3,
   "source": [
    "import argparse\n",
    "import glob\n",
    "from pathlib import Path\n",
    "\n",
    "import mayavi.mlab as mlab\n",
    "import numpy as np\n",
    "import torch\n",
    "\n",
    "from pcdet.config import cfg, cfg_from_yaml_file\n",
    "from pcdet.datasets import DatasetTemplate\n",
    "from pcdet.models import build_network, load_data_to_gpu\n",
    "from pcdet.utils import common_utils\n",
    "from visual_utils import visualize_utils as V\n"
   ],
   "outputs": [],
   "metadata": {}
  },
  {
   "cell_type": "code",
   "execution_count": 4,
   "source": [
    "\n",
    "class DemoDataset(DatasetTemplate):\n",
    "    def __init__(self, dataset_cfg, class_names, training=True, root_path=None, logger=None, ext='.bin'):\n",
    "        \"\"\"\n",
    "        Args:\n",
    "            root_path:\n",
    "            dataset_cfg:\n",
    "            class_names:\n",
    "            training:\n",
    "            logger:\n",
    "        \"\"\"\n",
    "        super().__init__(\n",
    "            dataset_cfg=dataset_cfg, class_names=class_names, training=training, root_path=root_path, logger=logger\n",
    "        )\n",
    "        self.root_path = root_path\n",
    "        self.ext = ext\n",
    "        data_file_list = glob.glob(str(root_path / f'*{self.ext}')) if self.root_path.is_dir() else [self.root_path]\n",
    "\n",
    "        data_file_list.sort()\n",
    "        self.sample_file_list = data_file_list\n",
    "\n",
    "    def __len__(self):\n",
    "        return len(self.sample_file_list)\n",
    "\n",
    "    def __getitem__(self, index):\n",
    "        if self.ext == '.bin':\n",
    "            points = np.fromfile(self.sample_file_list[index], dtype=np.float32).reshape(-1, 4)\n",
    "        elif self.ext == '.npy':\n",
    "            points = np.load(self.sample_file_list[index])\n",
    "        else:\n",
    "            raise NotImplementedError\n",
    "\n",
    "        input_dict = {\n",
    "            'points': points,\n",
    "            'frame_id': index,\n",
    "        }\n",
    "\n",
    "        data_dict = self.prepare_data(data_dict=input_dict)\n",
    "        return data_dict\n"
   ],
   "outputs": [],
   "metadata": {}
  },
  {
   "cell_type": "code",
   "execution_count": 5,
   "source": [
    "\n",
    "def parse_config():\n",
    "    parser = argparse.ArgumentParser(description='arg parser')\n",
    "    parser.add_argument('--cfg_file', type=str, default='cfgs/kitti_models/second.yaml',\n",
    "                        help='specify the config for demo')\n",
    "    parser.add_argument('--data_path', type=str, default='demo_data',\n",
    "                        help='specify the point cloud data file or directory')\n",
    "    parser.add_argument('--ckpt', type=str, default=None, help='specify the pretrained model')\n",
    "    parser.add_argument('--ext', type=str, default='.bin', help='specify the extension of your point cloud data file')\n",
    "\n",
    "    args = parser.parse_args()\n",
    "\n",
    "    \n",
    "\n",
    "    return args, cfg\n",
    "\n",
    "\n",
    "def main():\n",
    "    cfg_file = \"cfgs/kitti_models/centerpoint.yaml\"\n",
    "    data_path = \"/home/sandhu/project/p04-masterproject/CenterPoint-KITTI/data/kitti/testing/velodyne/000000.bin\"\n",
    "    ckpt = \"/home/sandhu/project/p04-masterproject/CenterPoint-KITTI/output/default/ckpt/checkpoint_epoch_80.pth\"\n",
    "    cfg_from_yaml_file(cfg_file, cfg)\n",
    "    logger = common_utils.create_logger()\n",
    "    logger.info('-----------------Quick Demo of OpenPCDet-------------------------')\n",
    "    demo_dataset = DemoDataset(\n",
    "        dataset_cfg=cfg.DATA_CONFIG, class_names=cfg.CLASS_NAMES, training=False,\n",
    "        root_path=Path(data_path), ext='.bin', logger=logger\n",
    "    )\n",
    "    logger.info(f'Total number of samples: \\t{len(demo_dataset)}')\n",
    "\n",
    "    model = build_network(model_cfg=cfg.MODEL, num_class=len(cfg.CLASS_NAMES), dataset=demo_dataset)\n",
    "    model.load_params_from_file(filename=ckpt, logger=logger, to_cpu=True)\n",
    "    model.cuda()\n",
    "    model.eval()\n",
    "    with torch.no_grad():\n",
    "        for idx, data_dict in enumerate(demo_dataset):\n",
    "            logger.info(f'Visualized sample index: \\t{idx + 1}')\n",
    "            data_dict = demo_dataset.collate_batch([data_dict])\n",
    "            load_data_to_gpu(data_dict)\n",
    "            pred_dicts, _ = model.forward(data_dict)\n",
    "\n",
    "            V.draw_scenes(\n",
    "                points=data_dict['points'][:, 1:], ref_boxes=pred_dicts[0]['pred_boxes'],\n",
    "                ref_scores=pred_dicts[0]['pred_scores'], ref_labels=pred_dicts[0]['pred_labels']\n",
    "            )\n",
    "            mlab.show(stop=True)\n",
    "\n",
    "    logger.info('Demo done.')\n",
    "\n"
   ],
   "outputs": [],
   "metadata": {}
  },
  {
   "cell_type": "code",
   "execution_count": 6,
   "source": [
    "# main()"
   ],
   "outputs": [],
   "metadata": {}
  },
  {
   "cell_type": "code",
   "execution_count": 7,
   "source": [
    "import open3d as o3d\n",
    "\n",
    "def load_velo_scan(path):\n",
    "    \"\"\"Returns the homogeneous coordinates\"\"\"\n",
    "    scan = np.fromfile(path, dtype=np.float32).reshape(-1, 4)\n",
    "    points_xyz = scan[:, :3]\n",
    "    ones = np.ones(len(points_xyz))\n",
    "    # points_xyz = np.insert(points_xyz, 3, ones, axis=1)\n",
    "    return points_xyz\n",
    "\n",
    "\n",
    "def array2pcd(array):\n",
    "    \"\"\"\n",
    "    N X 3 array to pcd\n",
    "    \"\"\"\n",
    "    pcd = o3d.geometry.PointCloud()\n",
    "    pcd.points = o3d.utility.Vector3dVector(array)\n",
    "    return pcd\n"
   ],
   "outputs": [],
   "metadata": {}
  },
  {
   "cell_type": "code",
   "execution_count": 8,
   "source": [
    "point = load_velo_scan(\"/home/sandhu/project/p04-masterproject/CenterPoint-KITTI/data/kitti/testing/velodyne/000000.bin\")\n",
    "pcd = array2pcd(point)\n"
   ],
   "outputs": [],
   "metadata": {}
  },
  {
   "cell_type": "code",
   "execution_count": 10,
   "source": [
    "o3d.visualization.draw_geometries([pcd])"
   ],
   "outputs": [],
   "metadata": {}
  },
  {
   "cell_type": "code",
   "execution_count": null,
   "source": [],
   "outputs": [],
   "metadata": {}
  }
 ],
 "metadata": {
  "orig_nbformat": 4,
  "language_info": {
   "name": "python",
   "version": "3.6.13",
   "mimetype": "text/x-python",
   "codemirror_mode": {
    "name": "ipython",
    "version": 3
   },
   "pygments_lexer": "ipython3",
   "nbconvert_exporter": "python",
   "file_extension": ".py"
  },
  "kernelspec": {
   "name": "python3",
   "display_name": "Python 3.6.13 64-bit ('exp2': conda)"
  },
  "interpreter": {
   "hash": "4ef580a9211ab1a47472ccbc1cbc46aaf3a51525b55cb04e5702a69ff7f62ec0"
  }
 },
 "nbformat": 4,
 "nbformat_minor": 2
}